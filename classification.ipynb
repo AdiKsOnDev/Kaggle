{
 "cells": [
  {
   "cell_type": "code",
   "execution_count": 1,
   "id": "84bcc57c",
   "metadata": {
    "_cell_guid": "75d1d812-d05c-4022-a4e8-af19c057409b",
    "_uuid": "ceb7c531-fb60-46cc-902b-01f07f60a304",
    "collapsed": false,
    "execution": {
     "iopub.execute_input": "2024-05-28T07:35:18.112382Z",
     "iopub.status.busy": "2024-05-28T07:35:18.111663Z",
     "iopub.status.idle": "2024-05-28T07:35:21.403927Z",
     "shell.execute_reply": "2024-05-28T07:35:21.400968Z"
    },
    "jupyter": {
     "outputs_hidden": false
    },
    "papermill": {
     "duration": 3.301363,
     "end_time": "2024-05-28T07:35:21.406735",
     "exception": false,
     "start_time": "2024-05-28T07:35:18.105372",
     "status": "completed"
    },
    "tags": []
   },
   "outputs": [
    {
     "name": "stdout",
     "output_type": "stream",
     "text": [
      "/kaggle/input/mushroom-dataset/mushroom_cleaned.csv\n"
     ]
    },
    {
     "data": {
      "text/html": [
       "<div>\n",
       "<style scoped>\n",
       "    .dataframe tbody tr th:only-of-type {\n",
       "        vertical-align: middle;\n",
       "    }\n",
       "\n",
       "    .dataframe tbody tr th {\n",
       "        vertical-align: top;\n",
       "    }\n",
       "\n",
       "    .dataframe thead th {\n",
       "        text-align: right;\n",
       "    }\n",
       "</style>\n",
       "<table border=\"1\" class=\"dataframe\">\n",
       "  <thead>\n",
       "    <tr style=\"text-align: right;\">\n",
       "      <th></th>\n",
       "      <th>cap-diameter</th>\n",
       "      <th>cap-shape</th>\n",
       "      <th>gill-attachment</th>\n",
       "      <th>gill-color</th>\n",
       "      <th>stem-height</th>\n",
       "      <th>stem-width</th>\n",
       "      <th>stem-color</th>\n",
       "      <th>season</th>\n",
       "      <th>class</th>\n",
       "    </tr>\n",
       "  </thead>\n",
       "  <tbody>\n",
       "    <tr>\n",
       "      <th>count</th>\n",
       "      <td>54035.000000</td>\n",
       "      <td>54035.000000</td>\n",
       "      <td>54035.000000</td>\n",
       "      <td>54035.000000</td>\n",
       "      <td>54035.000000</td>\n",
       "      <td>54035.000000</td>\n",
       "      <td>54035.000000</td>\n",
       "      <td>54035.000000</td>\n",
       "      <td>54035.000000</td>\n",
       "    </tr>\n",
       "    <tr>\n",
       "      <th>mean</th>\n",
       "      <td>567.257204</td>\n",
       "      <td>4.000315</td>\n",
       "      <td>2.142056</td>\n",
       "      <td>7.329509</td>\n",
       "      <td>0.759110</td>\n",
       "      <td>1051.081299</td>\n",
       "      <td>8.418062</td>\n",
       "      <td>0.952163</td>\n",
       "      <td>0.549181</td>\n",
       "    </tr>\n",
       "    <tr>\n",
       "      <th>std</th>\n",
       "      <td>359.883763</td>\n",
       "      <td>2.160505</td>\n",
       "      <td>2.228821</td>\n",
       "      <td>3.200266</td>\n",
       "      <td>0.650969</td>\n",
       "      <td>782.056076</td>\n",
       "      <td>3.262078</td>\n",
       "      <td>0.305594</td>\n",
       "      <td>0.497580</td>\n",
       "    </tr>\n",
       "    <tr>\n",
       "      <th>min</th>\n",
       "      <td>0.000000</td>\n",
       "      <td>0.000000</td>\n",
       "      <td>0.000000</td>\n",
       "      <td>0.000000</td>\n",
       "      <td>0.000426</td>\n",
       "      <td>0.000000</td>\n",
       "      <td>0.000000</td>\n",
       "      <td>0.027372</td>\n",
       "      <td>0.000000</td>\n",
       "    </tr>\n",
       "    <tr>\n",
       "      <th>25%</th>\n",
       "      <td>289.000000</td>\n",
       "      <td>2.000000</td>\n",
       "      <td>0.000000</td>\n",
       "      <td>5.000000</td>\n",
       "      <td>0.270997</td>\n",
       "      <td>421.000000</td>\n",
       "      <td>6.000000</td>\n",
       "      <td>0.888450</td>\n",
       "      <td>0.000000</td>\n",
       "    </tr>\n",
       "    <tr>\n",
       "      <th>50%</th>\n",
       "      <td>525.000000</td>\n",
       "      <td>5.000000</td>\n",
       "      <td>1.000000</td>\n",
       "      <td>8.000000</td>\n",
       "      <td>0.593295</td>\n",
       "      <td>923.000000</td>\n",
       "      <td>11.000000</td>\n",
       "      <td>0.943195</td>\n",
       "      <td>1.000000</td>\n",
       "    </tr>\n",
       "    <tr>\n",
       "      <th>75%</th>\n",
       "      <td>781.000000</td>\n",
       "      <td>6.000000</td>\n",
       "      <td>4.000000</td>\n",
       "      <td>10.000000</td>\n",
       "      <td>1.054858</td>\n",
       "      <td>1523.000000</td>\n",
       "      <td>11.000000</td>\n",
       "      <td>0.943195</td>\n",
       "      <td>1.000000</td>\n",
       "    </tr>\n",
       "    <tr>\n",
       "      <th>max</th>\n",
       "      <td>1891.000000</td>\n",
       "      <td>6.000000</td>\n",
       "      <td>6.000000</td>\n",
       "      <td>11.000000</td>\n",
       "      <td>3.835320</td>\n",
       "      <td>3569.000000</td>\n",
       "      <td>12.000000</td>\n",
       "      <td>1.804273</td>\n",
       "      <td>1.000000</td>\n",
       "    </tr>\n",
       "  </tbody>\n",
       "</table>\n",
       "</div>"
      ],
      "text/plain": [
       "       cap-diameter     cap-shape  gill-attachment    gill-color  \\\n",
       "count  54035.000000  54035.000000     54035.000000  54035.000000   \n",
       "mean     567.257204      4.000315         2.142056      7.329509   \n",
       "std      359.883763      2.160505         2.228821      3.200266   \n",
       "min        0.000000      0.000000         0.000000      0.000000   \n",
       "25%      289.000000      2.000000         0.000000      5.000000   \n",
       "50%      525.000000      5.000000         1.000000      8.000000   \n",
       "75%      781.000000      6.000000         4.000000     10.000000   \n",
       "max     1891.000000      6.000000         6.000000     11.000000   \n",
       "\n",
       "        stem-height    stem-width    stem-color        season         class  \n",
       "count  54035.000000  54035.000000  54035.000000  54035.000000  54035.000000  \n",
       "mean       0.759110   1051.081299      8.418062      0.952163      0.549181  \n",
       "std        0.650969    782.056076      3.262078      0.305594      0.497580  \n",
       "min        0.000426      0.000000      0.000000      0.027372      0.000000  \n",
       "25%        0.270997    421.000000      6.000000      0.888450      0.000000  \n",
       "50%        0.593295    923.000000     11.000000      0.943195      1.000000  \n",
       "75%        1.054858   1523.000000     11.000000      0.943195      1.000000  \n",
       "max        3.835320   3569.000000     12.000000      1.804273      1.000000  "
      ]
     },
     "execution_count": 1,
     "metadata": {},
     "output_type": "execute_result"
    }
   ],
   "source": [
    "# %% [code] {\"execution\":{\"iopub.status.busy\":\"2024-05-28T06:27:32.205047Z\",\"iopub.execute_input\":\"2024-05-28T06:27:32.205436Z\",\"iopub.status.idle\":\"2024-05-28T06:27:32.379990Z\",\"shell.execute_reply.started\":\"2024-05-28T06:27:32.205408Z\",\"shell.execute_reply\":\"2024-05-28T06:27:32.377722Z\"}}\n",
    "# This Python 3 environment comes with many helpful analytics libraries installed\n",
    "# It is defined by the kaggle/python Docker image: https://github.com/kaggle/docker-python\n",
    "# For example, here's several helpful packages to load\n",
    "\n",
    "import numpy as np # linear algebra\n",
    "import pandas as pd # data processing, CSV file I/O (e.g. pd.read_csv)\n",
    "import matplotlib.pyplot as plt\n",
    "from sklearn.metrics import accuracy_score\n",
    "\n",
    "# Models\n",
    "from sklearn.svm import LinearSVC\n",
    "from sklearn.neighbors import KNeighborsClassifier\n",
    "from sklearn.ensemble import RandomForestClassifier\n",
    "\n",
    "from sklearn.pipeline import make_pipeline\n",
    "from sklearn.preprocessing import StandardScaler\n",
    "from sklearn.model_selection import train_test_split\n",
    "from sklearn.metrics import confusion_matrix, ConfusionMatrixDisplay\n",
    "\n",
    "# Input data files are available in the read-only \"../input/\" directory\n",
    "# For example, running this (by clicking run or pressing Shift+Enter) will list all files under the input directory\n",
    "\n",
    "import os\n",
    "for dirname, _, filenames in os.walk('/kaggle/input'):\n",
    "    for filename in filenames:\n",
    "        print(os.path.join(dirname, filename))\n",
    "\n",
    "dataset = pd.read_csv(\"/kaggle/input/mushroom-dataset/mushroom_cleaned.csv\")\n",
    "dataset.describe()\n",
    "\n",
    "# You can write up to 20GB to the current directory (/kaggle/working/) that gets preserved as output when you create a version using \"Save & Run All\" \n",
    "# You can also write temporary files to /kaggle/temp/, but they won't be saved outside of the current session\n",
    "\n",
    "# %% [code]\n"
   ]
  },
  {
   "cell_type": "markdown",
   "id": "48b08ee7",
   "metadata": {
    "papermill": {
     "duration": 0.003785,
     "end_time": "2024-05-28T07:35:21.415056",
     "exception": false,
     "start_time": "2024-05-28T07:35:21.411271",
     "status": "completed"
    },
    "tags": []
   },
   "source": [
    "# Prepare the Dataset\n",
    "First we'll have to get rid of the _outliers_\n",
    "If we look at the description above, we'll see that there are rows with some values equal to 0\n",
    "We removed those rows\n",
    "\n",
    "Split the dataset into 2 parts used for:\n",
    "- Training\n",
    "- Evaluation\n",
    "\n",
    "We assigned _20%_ of the *Dataset* for *testing*"
   ]
  },
  {
   "cell_type": "code",
   "execution_count": 2,
   "id": "be721224",
   "metadata": {
    "execution": {
     "iopub.execute_input": "2024-05-28T07:35:21.424984Z",
     "iopub.status.busy": "2024-05-28T07:35:21.424601Z",
     "iopub.status.idle": "2024-05-28T07:35:21.477007Z",
     "shell.execute_reply": "2024-05-28T07:35:21.476031Z"
    },
    "papermill": {
     "duration": 0.060409,
     "end_time": "2024-05-28T07:35:21.479578",
     "exception": false,
     "start_time": "2024-05-28T07:35:21.419169",
     "status": "completed"
    },
    "tags": []
   },
   "outputs": [],
   "source": [
    "dataset = dataset.drop(dataset[dataset[\"cap-diameter\"]==0].index)\n",
    "dataset= dataset.drop(dataset[dataset[\"cap-shape\"]==0].index)\n",
    "dataset = dataset.drop(dataset[dataset[\"gill-attachment\"]==0].index)\n",
    "dataset = dataset.drop(dataset[dataset[\"gill-color\"]==0].index)\n",
    "dataset = dataset.drop(dataset[dataset[\"stem-height\"]==0].index)\n",
    "dataset = dataset.drop(dataset[dataset[\"stem-width\"]==0].index)\n",
    "dataset = dataset.drop(dataset[dataset[\"stem-color\"]==0].index)\n",
    "dataset = dataset.drop(dataset[dataset[\"season\"]==0].index)\n",
    "\n",
    "X = dataset.iloc[:, :-1].values\n",
    "y = dataset.iloc[:, -1].values\n",
    "\n",
    "X_train, X_test, y_train, y_test = train_test_split(X, y, test_size=0.2, random_state=0)"
   ]
  },
  {
   "cell_type": "markdown",
   "id": "75e1d44e",
   "metadata": {
    "papermill": {
     "duration": 0.003795,
     "end_time": "2024-05-28T07:35:21.487550",
     "exception": false,
     "start_time": "2024-05-28T07:35:21.483755",
     "status": "completed"
    },
    "tags": []
   },
   "source": [
    "# Model Selection\n",
    "For selecting the model, I referred to the [cheat-sheet](https://i.sstatic.net/IMVOl.png) provided by `sklearn` documentation.\n",
    "You can uncomment the other *2 models* and see how they perform, (All the necessary components are already imported)"
   ]
  },
  {
   "cell_type": "code",
   "execution_count": 3,
   "id": "ebd3ae4b",
   "metadata": {
    "execution": {
     "iopub.execute_input": "2024-05-28T07:35:21.498172Z",
     "iopub.status.busy": "2024-05-28T07:35:21.497736Z",
     "iopub.status.idle": "2024-05-28T07:35:24.625377Z",
     "shell.execute_reply": "2024-05-28T07:35:24.623914Z"
    },
    "papermill": {
     "duration": 3.136939,
     "end_time": "2024-05-28T07:35:24.628604",
     "exception": false,
     "start_time": "2024-05-28T07:35:21.491665",
     "status": "completed"
    },
    "tags": []
   },
   "outputs": [],
   "source": [
    "# model = KNeighborsClassifier(n_neighbors=5)\n",
    "# model = make_pipeline(StandardScaler(),\n",
    "#                     LinearSVC(random_state=0, tol=1e-5))\n",
    "model = RandomForestClassifier(random_state=42)\n",
    "\n",
    "model.fit(X_train, y_train)\n",
    "\n",
    "predictions = model.predict(X_test)"
   ]
  },
  {
   "cell_type": "markdown",
   "id": "8b38b744",
   "metadata": {
    "papermill": {
     "duration": 0.003772,
     "end_time": "2024-05-28T07:35:24.636802",
     "exception": false,
     "start_time": "2024-05-28T07:35:24.633030",
     "status": "completed"
    },
    "tags": []
   },
   "source": [
    "# Evaluate the Model Predictions\n",
    "In the following cell we'll display the Confusion Matrix and the accuracy of the model"
   ]
  },
  {
   "cell_type": "code",
   "execution_count": 4,
   "id": "09aa162d",
   "metadata": {
    "execution": {
     "iopub.execute_input": "2024-05-28T07:35:24.646778Z",
     "iopub.status.busy": "2024-05-28T07:35:24.646358Z",
     "iopub.status.idle": "2024-05-28T07:35:24.980661Z",
     "shell.execute_reply": "2024-05-28T07:35:24.979462Z"
    },
    "papermill": {
     "duration": 0.342381,
     "end_time": "2024-05-28T07:35:24.983235",
     "exception": false,
     "start_time": "2024-05-28T07:35:24.640854",
     "status": "completed"
    },
    "tags": []
   },
   "outputs": [
    {
     "name": "stdout",
     "output_type": "stream",
     "text": [
      "SCORE: 0.9924134660976767\n"
     ]
    },
    {
     "data": {
      "image/png": "[encoded data removed]",
      "text/plain": [
       "<Figure size 640x480 with 2 Axes>"
      ]
     },
     "metadata": {},
     "output_type": "display_data"
    }
   ],
   "source": [
    "cm = confusion_matrix(y_test, predictions, labels=model.classes_)\n",
    "disp = ConfusionMatrixDisplay(confusion_matrix=cm,\n",
    "                              display_labels=model.classes_)\n",
    "\n",
    "print(\"SCORE: \" + str(accuracy_score(y_test, predictions)))\n",
    "disp.plot()\n",
    "plt.show()"
   ]
  },
  {
   "cell_type": "code",
   "execution_count": null,
   "id": "5ff1ef1c",
   "metadata": {
    "papermill": {
     "duration": 0.004303,
     "end_time": "2024-05-28T07:35:24.992266",
     "exception": false,
     "start_time": "2024-05-28T07:35:24.987963",
     "status": "completed"
    },
    "tags": []
   },
   "outputs": [],
   "source": []
  }
 ],
 "metadata": {
  "kaggle": {
   "accelerator": "none",
   "dataSources": [
    {
     "datasetId": 4826933,
     "sourceId": 8159098,
     "sourceType": "datasetVersion"
    }
   ],
   "dockerImageVersionId": 30698,
   "isGpuEnabled": false,
   "isInternetEnabled": true,
   "language": "python",
   "sourceType": "notebook"
  },
  "kernelspec": {
   "display_name": "Python 3",
   "language": "python",
   "name": "python3"
  },
  "language_info": {
   "codemirror_mode": {
    "name": "ipython",
    "version": 3
   },
   "file_extension": ".py",
   "mimetype": "text/x-python",
   "name": "python",
   "nbconvert_exporter": "python",
   "pygments_lexer": "ipython3",
   "version": "3.10.13"
  },
  "papermill": {
   "default_parameters": {},
   "duration": 11.071524,
   "end_time": "2024-05-28T07:35:25.719603",
   "environment_variables": {},
   "exception": null,
   "input_path": "__notebook__.ipynb",
   "output_path": "__notebook__.ipynb",
   "parameters": {},
   "start_time": "2024-05-28T07:35:14.648079",
   "version": "2.5.0"
  }
 },
 "nbformat": 4,
 "nbformat_minor": 5
}
